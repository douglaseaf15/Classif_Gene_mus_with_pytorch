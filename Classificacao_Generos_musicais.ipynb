{
  "nbformat": 4,
  "nbformat_minor": 0,
  "metadata": {
    "colab": {
      "name": "Classificacao_Generos_musicais.ipynb",
      "provenance": [],
      "collapsed_sections": [],
      "toc_visible": true,
      "include_colab_link": true
    },
    "kernelspec": {
      "display_name": "Python 3",
      "language": "python",
      "name": "python3"
    },
    "accelerator": "GPU",
    "widgets": {
      "application/vnd.jupyter.widget-state+json": {
        "346d6a4470fa46be8650da692084908d": {
          "model_module": "@jupyter-widgets/controls",
          "model_name": "HBoxModel",
          "state": {
            "_view_name": "HBoxView",
            "_dom_classes": [],
            "_model_name": "HBoxModel",
            "_view_module": "@jupyter-widgets/controls",
            "_model_module_version": "1.5.0",
            "_view_count": null,
            "_view_module_version": "1.5.0",
            "box_style": "",
            "layout": "IPY_MODEL_42edbc6a233240bfa58ef5f832d8f247",
            "_model_module": "@jupyter-widgets/controls",
            "children": [
              "IPY_MODEL_a638ce0c660f49e49718c0608225ee83",
              "IPY_MODEL_79d684e2f3f74388a96ea9bf79645d98"
            ]
          }
        },
        "42edbc6a233240bfa58ef5f832d8f247": {
          "model_module": "@jupyter-widgets/base",
          "model_name": "LayoutModel",
          "state": {
            "_view_name": "LayoutView",
            "grid_template_rows": null,
            "right": null,
            "justify_content": null,
            "_view_module": "@jupyter-widgets/base",
            "overflow": null,
            "_model_module_version": "1.2.0",
            "_view_count": null,
            "flex_flow": null,
            "width": null,
            "min_width": null,
            "border": null,
            "align_items": null,
            "bottom": null,
            "_model_module": "@jupyter-widgets/base",
            "top": null,
            "grid_column": null,
            "overflow_y": null,
            "overflow_x": null,
            "grid_auto_flow": null,
            "grid_area": null,
            "grid_template_columns": null,
            "flex": null,
            "_model_name": "LayoutModel",
            "justify_items": null,
            "grid_row": null,
            "max_height": null,
            "align_content": null,
            "visibility": null,
            "align_self": null,
            "height": null,
            "min_height": null,
            "padding": null,
            "grid_auto_rows": null,
            "grid_gap": null,
            "max_width": null,
            "order": null,
            "_view_module_version": "1.2.0",
            "grid_template_areas": null,
            "object_position": null,
            "object_fit": null,
            "grid_auto_columns": null,
            "margin": null,
            "display": null,
            "left": null
          }
        },
        "a638ce0c660f49e49718c0608225ee83": {
          "model_module": "@jupyter-widgets/controls",
          "model_name": "IntProgressModel",
          "state": {
            "_view_name": "ProgressView",
            "style": "IPY_MODEL_b2895c168123491380352657ab70241a",
            "_dom_classes": [],
            "description": "",
            "_model_name": "IntProgressModel",
            "bar_style": "success",
            "max": 46827520,
            "_view_module": "@jupyter-widgets/controls",
            "_model_module_version": "1.5.0",
            "value": 46827520,
            "_view_count": null,
            "_view_module_version": "1.5.0",
            "orientation": "horizontal",
            "min": 0,
            "description_tooltip": null,
            "_model_module": "@jupyter-widgets/controls",
            "layout": "IPY_MODEL_b58982fa5ce24ec2b000a895c34d9e14"
          }
        },
        "79d684e2f3f74388a96ea9bf79645d98": {
          "model_module": "@jupyter-widgets/controls",
          "model_name": "HTMLModel",
          "state": {
            "_view_name": "HTMLView",
            "style": "IPY_MODEL_5fc4d6c2b8e9420294eaf32bb8bab4d6",
            "_dom_classes": [],
            "description": "",
            "_model_name": "HTMLModel",
            "placeholder": "​",
            "_view_module": "@jupyter-widgets/controls",
            "_model_module_version": "1.5.0",
            "value": "100% 44.7M/44.7M [00:00&lt;00:00, 235MB/s]",
            "_view_count": null,
            "_view_module_version": "1.5.0",
            "description_tooltip": null,
            "_model_module": "@jupyter-widgets/controls",
            "layout": "IPY_MODEL_f01664404a5f43ca8ab8258bd0270425"
          }
        },
        "b2895c168123491380352657ab70241a": {
          "model_module": "@jupyter-widgets/controls",
          "model_name": "ProgressStyleModel",
          "state": {
            "_view_name": "StyleView",
            "_model_name": "ProgressStyleModel",
            "description_width": "",
            "_view_module": "@jupyter-widgets/base",
            "_model_module_version": "1.5.0",
            "_view_count": null,
            "_view_module_version": "1.2.0",
            "bar_color": null,
            "_model_module": "@jupyter-widgets/controls"
          }
        },
        "b58982fa5ce24ec2b000a895c34d9e14": {
          "model_module": "@jupyter-widgets/base",
          "model_name": "LayoutModel",
          "state": {
            "_view_name": "LayoutView",
            "grid_template_rows": null,
            "right": null,
            "justify_content": null,
            "_view_module": "@jupyter-widgets/base",
            "overflow": null,
            "_model_module_version": "1.2.0",
            "_view_count": null,
            "flex_flow": null,
            "width": null,
            "min_width": null,
            "border": null,
            "align_items": null,
            "bottom": null,
            "_model_module": "@jupyter-widgets/base",
            "top": null,
            "grid_column": null,
            "overflow_y": null,
            "overflow_x": null,
            "grid_auto_flow": null,
            "grid_area": null,
            "grid_template_columns": null,
            "flex": null,
            "_model_name": "LayoutModel",
            "justify_items": null,
            "grid_row": null,
            "max_height": null,
            "align_content": null,
            "visibility": null,
            "align_self": null,
            "height": null,
            "min_height": null,
            "padding": null,
            "grid_auto_rows": null,
            "grid_gap": null,
            "max_width": null,
            "order": null,
            "_view_module_version": "1.2.0",
            "grid_template_areas": null,
            "object_position": null,
            "object_fit": null,
            "grid_auto_columns": null,
            "margin": null,
            "display": null,
            "left": null
          }
        },
        "5fc4d6c2b8e9420294eaf32bb8bab4d6": {
          "model_module": "@jupyter-widgets/controls",
          "model_name": "DescriptionStyleModel",
          "state": {
            "_view_name": "StyleView",
            "_model_name": "DescriptionStyleModel",
            "description_width": "",
            "_view_module": "@jupyter-widgets/base",
            "_model_module_version": "1.5.0",
            "_view_count": null,
            "_view_module_version": "1.2.0",
            "_model_module": "@jupyter-widgets/controls"
          }
        },
        "f01664404a5f43ca8ab8258bd0270425": {
          "model_module": "@jupyter-widgets/base",
          "model_name": "LayoutModel",
          "state": {
            "_view_name": "LayoutView",
            "grid_template_rows": null,
            "right": null,
            "justify_content": null,
            "_view_module": "@jupyter-widgets/base",
            "overflow": null,
            "_model_module_version": "1.2.0",
            "_view_count": null,
            "flex_flow": null,
            "width": null,
            "min_width": null,
            "border": null,
            "align_items": null,
            "bottom": null,
            "_model_module": "@jupyter-widgets/base",
            "top": null,
            "grid_column": null,
            "overflow_y": null,
            "overflow_x": null,
            "grid_auto_flow": null,
            "grid_area": null,
            "grid_template_columns": null,
            "flex": null,
            "_model_name": "LayoutModel",
            "justify_items": null,
            "grid_row": null,
            "max_height": null,
            "align_content": null,
            "visibility": null,
            "align_self": null,
            "height": null,
            "min_height": null,
            "padding": null,
            "grid_auto_rows": null,
            "grid_gap": null,
            "max_width": null,
            "order": null,
            "_view_module_version": "1.2.0",
            "grid_template_areas": null,
            "object_position": null,
            "object_fit": null,
            "grid_auto_columns": null,
            "margin": null,
            "display": null,
            "left": null
          }
        }
      }
    }
  },
  "cells": [
    {
      "cell_type": "markdown",
      "metadata": {
        "id": "view-in-github",
        "colab_type": "text"
      },
      "source": [
        "<a href=\"https://colab.research.google.com/github/douglaseaf15/Classif_Gene_mus_with_pytorch/blob/master/Classificacao_Generos_musicais.ipynb\" target=\"_parent\"><img src=\"https://colab.research.google.com/assets/colab-badge.svg\" alt=\"Open In Colab\"/></a>"
      ]
    },
    {
      "cell_type": "code",
      "metadata": {
        "id": "MeNLtyO-aV_X",
        "colab_type": "code",
        "outputId": "c6213114-c443-4d60-cc4a-0f677aac9110",
        "colab": {
          "base_uri": "https://localhost:8080/",
          "height": 113
        }
      },
      "source": [
        "def imshow(inp, title=None):\n",
        "    \"\"\"Imshow for Tensor.\"\"\"\n",
        "    inp = inp.numpy().transpose((1, 2, 0))\n",
        "    mean = np.array([0.485, 0.456, 0.406])\n",
        "    std = np.array([0.229, 0.224, 0.225])\n",
        "    inp = std * inp + mean\n",
        "    inp = np.clip(inp, 0, 1)\n",
        "    plt.imshow(inp)\n",
        "    if title is not None:\n",
        "        plt.title(title)\n",
        "    plt.pause(0.001)  # pause a bit so that plots are updated\n",
        "\n",
        "\n",
        "# Get a batch of training data\n",
        "inputs, classes = next(iter(dataloaders['train']))\n",
        "\n",
        "# Make a grid from batch\n",
        "out = torchvision.utils.make_grid(inputs)\n",
        "\n",
        "imshow(out, title=[class_names[x] for x in classes])"
      ],
      "execution_count": 20,
      "outputs": [
        {
          "output_type": "display_data",
          "data": {
            "image/png": "[encoded data removed]",
            "text/plain": [
              "<Figure size 432x288 with 1 Axes>"
            ]
          },
          "metadata": {
            "tags": []
          }
        }
      ]
    },
    {
      "cell_type": "code",
      "metadata": {
        "id": "d4Yc8dQ3N3MZ",
        "colab_type": "code",
        "colab": {}
      },
      "source": [
        ""
      ],
      "execution_count": 0,
      "outputs": []
    },
    {
      "cell_type": "code",
      "metadata": {
        "id": "uFxSrfvqbRU9",
        "colab_type": "code",
        "outputId": "c4f8f6af-e369-444f-b3e8-bcae1a6b2e63",
        "colab": {
          "base_uri": "https://localhost:8080/",
          "height": 54
        }
      },
      "source": [
        "\"\"\"#Faz o download e descompacta o dataset de treino e teste\n",
        "!rm hymenoptera_data.zip\n",
        "!rm -r hymenoptera_data\n",
        "\n",
        "# Downloading data.\n",
        "!wget https://download.pytorch.org/tutorial/hymenoptera_data.zip -O hymenoptera_data.zip\n",
        "\n",
        "# Decompressing data.\n",
        "!unzip -q hymenoptera_data.zip\n",
        "\n",
        "!ls\"\"\""
      ],
      "execution_count": 0,
      "outputs": [
        {
          "output_type": "execute_result",
          "data": {
            "text/plain": [
              "'#Faz o download e descompacta o dataset de treino e teste\\n!rm hymenoptera_data.zip\\n!rm -r hymenoptera_data\\n\\n# Downloading data.\\n!wget https://download.pytorch.org/tutorial/hymenoptera_data.zip -O hymenoptera_data.zip\\n\\n# Decompressing data.\\n!unzip -q hymenoptera_data.zip\\n\\n!ls'"
            ]
          },
          "metadata": {
            "tags": []
          },
          "execution_count": 31
        }
      ]
    },
    {
      "cell_type": "code",
      "metadata": {
        "id": "7V8bhnMxaV_n",
        "colab_type": "code",
        "outputId": "d2ac20c4-f9c8-4fa8-8ce3-b8daa6af682a",
        "colab": {
          "base_uri": "https://localhost:8080/",
          "height": 163
        }
      },
      "source": [
        "visualize_model(model_ft)"
      ],
      "execution_count": 0,
      "outputs": [
        {
          "output_type": "error",
          "ename": "NameError",
          "evalue": "ignored",
          "traceback": [
            "\u001b[0;31m---------------------------------------------------------------------------\u001b[0m",
            "\u001b[0;31mNameError\u001b[0m                                 Traceback (most recent call last)",
            "\u001b[0;32m<ipython-input-32-72e004aa6e49>\u001b[0m in \u001b[0;36m<module>\u001b[0;34m()\u001b[0m\n\u001b[0;32m----> 1\u001b[0;31m \u001b[0mvisualize_model\u001b[0m\u001b[0;34m(\u001b[0m\u001b[0mmodel_ft\u001b[0m\u001b[0;34m)\u001b[0m\u001b[0;34m\u001b[0m\u001b[0;34m\u001b[0m\u001b[0m\n\u001b[0m",
            "\u001b[0;31mNameError\u001b[0m: name 'visualize_model' is not defined"
          ]
        }
      ]
    },
    {
      "cell_type": "markdown",
      "metadata": {
        "id": "TsLrqDEsaV_U",
        "colab_type": "text"
      },
      "source": [
        "### Visualize a few images\n",
        "\n",
        "Let's visualize a few training images so as to understand the data\n",
        "augmentations.\n",
        "\n"
      ]
    },
    {
      "cell_type": "code",
      "metadata": {
        "id": "DI4eyzdkaV_d",
        "colab_type": "code",
        "colab": {}
      },
      "source": [
        "def visualize_model(model, num_images=6):\n",
        "    was_training = model.training\n",
        "    model.eval()\n",
        "    images_so_far = 0\n",
        "    fig = plt.figure()\n",
        "\n",
        "    with torch.no_grad():\n",
        "        for i, (inputs, labels) in enumerate(dataloaders['val']):\n",
        "            inputs = inputs.to(device)\n",
        "            labels = labels.to(device)\n",
        "\n",
        "            outputs = model(inputs)\n",
        "            _, preds = torch.max(outputs, 1)\n",
        "\n",
        "            for j in range(inputs.size()[0]):\n",
        "                images_so_far += 1\n",
        "                ax = plt.subplot(num_images//2, 2, images_so_far)\n",
        "                ax.axis('off')\n",
        "                ax.set_title('predicted: {}'.format(class_names[preds[j]]))\n",
        "                imshow(inputs.cpu().data[j])\n",
        "\n",
        "                if images_so_far == num_images:\n",
        "                    model.train(mode=was_training)\n",
        "                    return\n",
        "        model.train(mode=was_training)"
      ],
      "execution_count": 0,
      "outputs": []
    },
    {
      "cell_type": "code",
      "metadata": {
        "id": "oainQjsHqyCS",
        "colab_type": "code",
        "colab": {}
      },
      "source": [
        "rm -rf ./sample_data"
      ],
      "execution_count": 0,
      "outputs": []
    },
    {
      "cell_type": "markdown",
      "metadata": {
        "id": "5fNrWZ3dIIDE",
        "colab_type": "text"
      },
      "source": [
        "# Começa aqui!\n"
      ]
    },
    {
      "cell_type": "markdown",
      "metadata": {
        "id": "C6lr5NkYIOa3",
        "colab_type": "text"
      },
      "source": [
        "#Aqui é montado a minha pasta do Google Drive"
      ]
    },
    {
      "cell_type": "code",
      "metadata": {
        "id": "wTnbldQ0kB1g",
        "colab_type": "code",
        "outputId": "6e50c497-ccc2-4b02-d671-042b96b4cf01",
        "colab": {
          "base_uri": "https://localhost:8080/",
          "height": 122
        }
      },
      "source": [
        "from google.colab import drive\n",
        "drive.mount('/content/drive')"
      ],
      "execution_count": 0,
      "outputs": [
        {
          "output_type": "stream",
          "text": [
            "Go to this URL in a browser: https://accounts.google.com/o/oauth2/auth?client_id=947318989803-6bn6qk8qdgf4n4g3pfee6491hc0brc4i.apps.googleusercontent.com&redirect_uri=urn%3aietf%3awg%3aoauth%3a2.0%3aoob&response_type=code&scope=email%20https%3a%2f%2fwww.googleapis.com%2fauth%2fdocs.test%20https%3a%2f%2fwww.googleapis.com%2fauth%2fdrive%20https%3a%2f%2fwww.googleapis.com%2fauth%2fdrive.photos.readonly%20https%3a%2f%2fwww.googleapis.com%2fauth%2fpeopleapi.readonly\n",
            "\n",
            "Enter your authorization code:\n",
            "··········\n",
            "Mounted at /content/drive\n"
          ],
          "name": "stdout"
        }
      ]
    },
    {
      "cell_type": "markdown",
      "metadata": {
        "id": "KWWO1BABIcg1",
        "colab_type": "text"
      },
      "source": [
        "# Aqui é baixado a pasta com as imagens das músicas que forma treansformadas em espectogramas"
      ]
    },
    {
      "cell_type": "code",
      "metadata": {
        "id": "ipznAYdbmI5r",
        "colab_type": "code",
        "colab": {}
      },
      "source": [
        "import zipfile\n",
        "cam = str(\"/content/drive\")\n",
        "cam = cam +'/'+\"My Drive/\"+\"estilos_.zip\"\n",
        "with zipfile.ZipFile(cam, 'r') as zip_ref:\n",
        "    zip_ref.extractall(\"./\")"
      ],
      "execution_count": 0,
      "outputs": []
    },
    {
      "cell_type": "markdown",
      "metadata": {
        "id": "362u4gYuIagT",
        "colab_type": "text"
      },
      "source": [
        "#Adicionando as bibliotecas necessárias para o problema de classificação"
      ]
    },
    {
      "cell_type": "code",
      "metadata": {
        "id": "MOrwmepTaV_H",
        "colab_type": "code",
        "colab": {}
      },
      "source": [
        "# License: BSD\n",
        "# Author: Sasank Chilamkurthy\n",
        "\n",
        "from __future__ import print_function, division\n",
        "\n",
        "import torch\n",
        "import torch.nn as nn\n",
        "import torch.optim as optim\n",
        "from torch.optim import lr_scheduler\n",
        "import numpy as np\n",
        "import torchvision\n",
        "from torchvision import datasets, models, transforms\n",
        "import matplotlib.pyplot as plt\n",
        "import time\n",
        "import os\n",
        "import copy\n",
        "\n",
        "%matplotlib inline\n",
        "\n",
        "plt.ion()   # interactive mode"
      ],
      "execution_count": 0,
      "outputs": []
    },
    {
      "cell_type": "code",
      "metadata": {
        "id": "z9gJxlQeaV_N",
        "colab_type": "code",
        "colab": {}
      },
      "source": [
        "# Data augmentation and normalization for training\n",
        "# Just normalization for validation\n",
        "data_transforms = {\n",
        "    'train': transforms.Compose([\n",
        "        #transforms.RandomResizedCrop(224),\n",
        "        #transforms.RandomHorizontalFlip(),\n",
        "        transforms.ToTensor(),\n",
        "        transforms.Normalize([0.485, 0.456, 0.406], [0.229, 0.224, 0.225])\n",
        "    ]),\n",
        "    'val': transforms.Compose([\n",
        "       # transforms.Resize(256),\n",
        "        #transforms.CenterCrop(224),\n",
        "        transforms.ToTensor(),\n",
        "        transforms.Normalize([0.485, 0.456, 0.406], [0.229, 0.224, 0.225])\n",
        "    ]),\n",
        "        'test': transforms.Compose([\n",
        "       # transforms.Resize(256),\n",
        "        #transforms.CenterCrop(224),\n",
        "        transforms.ToTensor(),\n",
        "        transforms.Normalize([0.485, 0.456, 0.406], [0.229, 0.224, 0.225])\n",
        "    ]),\n",
        "}\n",
        "\n",
        "data_dir = '/content/estilos_'\n",
        "\n",
        "#image_datasets é um dicionário em que  as chaves são train e val e os valores são as pastas com as imagens tranformadas\n",
        "image_datasets = {x: datasets.ImageFolder(os.path.join(data_dir, x),\n",
        "                                          data_transforms[x])\n",
        "                  for x in ['train', 'val', 'test']}\n",
        "\n",
        "#dataloaders é um dicionário que alimenta o modelo com as chaves train e val \n",
        "dataloaders = {x: torch.utils.data.DataLoader(image_datasets[x], batch_size=4,\n",
        "                                             shuffle=True, num_workers=4)\n",
        "              for x in ['train', 'val', 'test']}\n",
        "\n",
        "#O dicionário dataset_sizes recebe duas tuplas com os nomes dos dados de treinamento e validação e seus respectivos tamanhos\n",
        "dataset_sizes = {x: len(image_datasets[x]) for x in ['train', 'val']}\n",
        "\n",
        "#A variável class_names recebe o nome das classes do dicionário image_datasets\n",
        "class_names = image_datasets['train'].classes\n",
        "\n",
        "#O dispositivo padrão a ser utilizado será a GPU\n",
        "device = torch.device(\"cuda:0\" if torch.cuda.is_available() else \"cpu\")"
      ],
      "execution_count": 0,
      "outputs": []
    },
    {
      "cell_type": "markdown",
      "metadata": {
        "id": "nSmgOtTtaV_Z",
        "colab_type": "text"
      },
      "source": [
        "## Training the model\n",
        "\n",
        "Now, let's write a general function to train a model. Here, we will\n",
        "illustrate:\n",
        "\n",
        "-  Scheduling the learning rate\n",
        "-  Saving the best model\n",
        "\n",
        "In the following, parameter ``scheduler`` is an LR scheduler object from\n",
        "``torch.optim.lr_scheduler``.\n",
        "\n"
      ]
    },
    {
      "cell_type": "code",
      "metadata": {
        "id": "Vvhrl-qHaV_a",
        "colab_type": "code",
        "colab": {}
      },
      "source": [
        "def train_model(model, criterion, optimizer, scheduler, num_epochs=25):\n",
        "    since = time.time()\n",
        "\n",
        "    best_model_wts = copy.deepcopy(model.state_dict())\n",
        "    best_acc = 0.0\n",
        "\n",
        "    for epoch in range(num_epochs):\n",
        "        print('Epoch {}/{}'.format(epoch, num_epochs - 1))\n",
        "        print('-' * 10)\n",
        "\n",
        "        # Each epoch has a training and validation phase\n",
        "        for phase in ['train', 'val']:\n",
        "            if phase == 'train':\n",
        "                scheduler.step()\n",
        "                model.train()  # Set model to training mode\n",
        "            else:\n",
        "                model.eval()   # Set model to evaluate mode\n",
        "\n",
        "            running_loss = 0.0\n",
        "            running_corrects = 0\n",
        "\n",
        "            # Iterate over data.\n",
        "            for inputs, labels in dataloaders[phase]:\n",
        "                inputs = inputs.to(device)\n",
        "                labels = labels.to(device)\n",
        "\n",
        "                # zero the parameter gradients\n",
        "                optimizer.zero_grad()\n",
        "\n",
        "                # forward\n",
        "                # track history if only in train\n",
        "                with torch.set_grad_enabled(phase == 'train'):\n",
        "                    outputs = model(inputs)\n",
        "                    _, preds = torch.max(outputs, 1)\n",
        "                    loss = criterion(outputs, labels)\n",
        "                    # backward + optimize only if in training phase\n",
        "                    if phase == 'train':\n",
        "                        loss.backward()\n",
        "                        optimizer.step()\n",
        "\n",
        "                # statistics\n",
        "                running_loss += loss.item() * inputs.size(0)\n",
        "                running_corrects += torch.sum(preds == labels.data)\n",
        "\n",
        "            epoch_loss = running_loss / dataset_sizes[phase]\n",
        "            epoch_acc = running_corrects.double() / dataset_sizes[phase]\n",
        "\n",
        "            print('{} Loss: {:.4f} Acc: {:.4f}'.format(\n",
        "                phase, epoch_loss, epoch_acc))\n",
        "\n",
        "            # deep copy the model\n",
        "            if phase == 'val' and epoch_acc > best_acc:\n",
        "                best_acc = epoch_acc\n",
        "                best_model_wts = copy.deepcopy(model.state_dict())\n",
        "\n",
        "        print()\n",
        "\n",
        "    time_elapsed = time.time() - since\n",
        "    print('Training complete in {:.0f}m {:.0f}s'.format(\n",
        "        time_elapsed // 60, time_elapsed % 60))\n",
        "    print('Best val Acc: {:4f}'.format(best_acc))\n",
        "\n",
        "    # load best model weights\n",
        "    model.load_state_dict(best_model_wts)\n",
        "    return model"
      ],
      "execution_count": 0,
      "outputs": []
    },
    {
      "cell_type": "code",
      "metadata": {
        "id": "PZaZu2I4aOhg",
        "colab_type": "code",
        "colab": {}
      },
      "source": [
        ""
      ],
      "execution_count": 0,
      "outputs": []
    },
    {
      "cell_type": "markdown",
      "metadata": {
        "id": "j4X1WSobaV_f",
        "colab_type": "text"
      },
      "source": [
        "Finetuning the convnet\n",
        "----------------------\n",
        "\n",
        "Load a pretrained model and reset final fully connected layer.\n",
        "\n",
        "\n"
      ]
    },
    {
      "cell_type": "code",
      "metadata": {
        "id": "rmg4wL4C1fCW",
        "colab_type": "code",
        "colab": {}
      },
      "source": [
        "#model_ft = models.vgg16(pretrained=True)\n",
        "#print(model_ft)"
      ],
      "execution_count": 0,
      "outputs": []
    },
    {
      "cell_type": "code",
      "metadata": {
        "id": "1L6ry7e2aV_f",
        "colab_type": "code",
        "outputId": "3c5e6256-411a-4e1c-979f-b14f2ac960e7",
        "colab": {
          "base_uri": "https://localhost:8080/",
          "height": 83,
          "referenced_widgets": [
            "346d6a4470fa46be8650da692084908d",
            "42edbc6a233240bfa58ef5f832d8f247",
            "a638ce0c660f49e49718c0608225ee83",
            "79d684e2f3f74388a96ea9bf79645d98",
            "b2895c168123491380352657ab70241a",
            "b58982fa5ce24ec2b000a895c34d9e14",
            "5fc4d6c2b8e9420294eaf32bb8bab4d6",
            "f01664404a5f43ca8ab8258bd0270425"
          ]
        }
      },
      "source": [
        "model_ft = models.resnet18(pretrained=True)\n",
        "num_ftrs = model_ft.fc.in_features\n",
        "model_ft.fc = nn.Linear(num_ftrs, 11 )"
      ],
      "execution_count": 0,
      "outputs": [
        {
          "output_type": "stream",
          "text": [
            "Downloading: \"https://download.pytorch.org/models/resnet18-5c106cde.pth\" to /root/.cache/torch/checkpoints/resnet18-5c106cde.pth\n"
          ],
          "name": "stderr"
        },
        {
          "output_type": "display_data",
          "data": {
            "application/vnd.jupyter.widget-view+json": {
              "model_id": "346d6a4470fa46be8650da692084908d",
              "version_minor": 0,
              "version_major": 2
            },
            "text/plain": [
              "HBox(children=(IntProgress(value=0, max=46827520), HTML(value='')))"
            ]
          },
          "metadata": {
            "tags": []
          }
        },
        {
          "output_type": "stream",
          "text": [
            "\n"
          ],
          "name": "stdout"
        }
      ]
    },
    {
      "cell_type": "code",
      "metadata": {
        "id": "amA74IDoJ0uZ",
        "colab_type": "code",
        "colab": {}
      },
      "source": [
        "model_ft = model_ft.to(device)\n",
        "\n",
        "criterion = nn.CrossEntropyLoss()\n",
        "\n",
        "# Observe that all parameters are being optimized , momentum=0.9\n",
        "optimizer_ft = optim.SGD(model_ft.parameters(), lr=0.001, momentum=0.9)\n",
        "\n",
        "# Decay LR by a factor of 0.1 every 7 epochs\n",
        "exp_lr_scheduler = lr_scheduler.StepLR(optimizer_ft, step_size=7, gamma=0.1)"
      ],
      "execution_count": 0,
      "outputs": []
    },
    {
      "cell_type": "markdown",
      "metadata": {
        "id": "fiQjwKHzaV_c",
        "colab_type": "text"
      },
      "source": [
        "### Visualizing the model predictions\n",
        "\n",
        "Generic function to display predictions for a few images\n",
        "\n",
        "\n"
      ]
    },
    {
      "cell_type": "code",
      "metadata": {
        "id": "eKyJF4g7aV_j",
        "colab_type": "code",
        "outputId": "5d3178f3-4eb9-4438-93a5-fcc670f7531f",
        "colab": {
          "base_uri": "https://localhost:8080/",
          "height": 1000
        }
      },
      "source": [
        "model_ft = train_model(model_ft, criterion, optimizer_ft, exp_lr_scheduler, num_epochs=25)"
      ],
      "execution_count": 0,
      "outputs": [
        {
          "output_type": "stream",
          "text": [
            "Epoch 0/24\n",
            "----------\n"
          ],
          "name": "stdout"
        },
        {
          "output_type": "stream",
          "text": [
            "/usr/local/lib/python3.6/dist-packages/torch/optim/lr_scheduler.py:122: UserWarning: Detected call of `lr_scheduler.step()` before `optimizer.step()`. In PyTorch 1.1.0 and later, you should call them in the opposite order: `optimizer.step()` before `lr_scheduler.step()`.  Failure to do this will result in PyTorch skipping the first value of the learning rate schedule. See more details at https://pytorch.org/docs/stable/optim.html#how-to-adjust-learning-rate\n",
            "  \"https://pytorch.org/docs/stable/optim.html#how-to-adjust-learning-rate\", UserWarning)\n"
          ],
          "name": "stderr"
        },
        {
          "output_type": "stream",
          "text": [
            "train Loss: 1.9099 Acc: 0.3375\n",
            "val Loss: 1.7238 Acc: 0.4818\n",
            "\n",
            "Epoch 1/24\n",
            "----------\n",
            "train Loss: 1.4696 Acc: 0.4966\n",
            "val Loss: 1.6248 Acc: 0.5182\n",
            "\n",
            "Epoch 2/24\n",
            "----------\n",
            "train Loss: 1.2290 Acc: 0.5932\n",
            "val Loss: 1.3054 Acc: 0.6182\n",
            "\n",
            "Epoch 3/24\n",
            "----------\n",
            "train Loss: 0.9856 Acc: 0.6761\n",
            "val Loss: 1.1312 Acc: 0.6364\n",
            "\n",
            "Epoch 4/24\n",
            "----------\n",
            "train Loss: 0.7813 Acc: 0.7364\n",
            "val Loss: 1.4583 Acc: 0.5727\n",
            "\n",
            "Epoch 5/24\n",
            "----------\n",
            "train Loss: 0.6071 Acc: 0.8170\n",
            "val Loss: 1.2370 Acc: 0.6636\n",
            "\n",
            "Epoch 6/24\n",
            "----------\n",
            "train Loss: 0.3468 Acc: 0.8898\n",
            "val Loss: 0.8567 Acc: 0.7545\n",
            "\n",
            "Epoch 7/24\n",
            "----------\n",
            "train Loss: 0.2334 Acc: 0.9432\n",
            "val Loss: 0.8175 Acc: 0.7545\n",
            "\n",
            "Epoch 8/24\n",
            "----------\n",
            "train Loss: 0.1992 Acc: 0.9489\n",
            "val Loss: 0.8639 Acc: 0.7273\n",
            "\n",
            "Epoch 9/24\n",
            "----------\n",
            "train Loss: 0.1897 Acc: 0.9511\n",
            "val Loss: 0.7957 Acc: 0.7909\n",
            "\n",
            "Epoch 10/24\n",
            "----------\n",
            "train Loss: 0.1897 Acc: 0.9568\n",
            "val Loss: 0.8446 Acc: 0.7636\n",
            "\n",
            "Epoch 11/24\n",
            "----------\n",
            "train Loss: 0.1447 Acc: 0.9727\n",
            "val Loss: 0.8104 Acc: 0.7545\n",
            "\n",
            "Epoch 12/24\n",
            "----------\n",
            "train Loss: 0.1144 Acc: 0.9807\n",
            "val Loss: 0.8164 Acc: 0.7636\n",
            "\n",
            "Epoch 13/24\n",
            "----------\n",
            "train Loss: 0.1635 Acc: 0.9580\n",
            "val Loss: 0.8734 Acc: 0.7455\n",
            "\n",
            "Epoch 14/24\n",
            "----------\n",
            "train Loss: 0.1188 Acc: 0.9750\n",
            "val Loss: 0.8377 Acc: 0.7636\n",
            "\n",
            "Epoch 15/24\n",
            "----------\n",
            "train Loss: 0.1369 Acc: 0.9670\n",
            "val Loss: 0.8585 Acc: 0.7364\n",
            "\n",
            "Epoch 16/24\n",
            "----------\n",
            "train Loss: 0.1152 Acc: 0.9807\n",
            "val Loss: 0.8557 Acc: 0.7273\n",
            "\n",
            "Epoch 17/24\n",
            "----------\n",
            "train Loss: 0.1417 Acc: 0.9750\n",
            "val Loss: 0.8249 Acc: 0.7545\n",
            "\n",
            "Epoch 18/24\n",
            "----------\n",
            "train Loss: 0.1171 Acc: 0.9739\n",
            "val Loss: 0.8446 Acc: 0.7818\n",
            "\n",
            "Epoch 19/24\n",
            "----------\n",
            "train Loss: 0.1263 Acc: 0.9693\n",
            "val Loss: 0.8815 Acc: 0.7636\n",
            "\n",
            "Epoch 20/24\n",
            "----------\n",
            "train Loss: 0.1179 Acc: 0.9739\n",
            "val Loss: 0.8187 Acc: 0.7636\n",
            "\n",
            "Epoch 21/24\n",
            "----------\n",
            "train Loss: 0.1165 Acc: 0.9682\n",
            "val Loss: 0.8170 Acc: 0.7636\n",
            "\n",
            "Epoch 22/24\n",
            "----------\n",
            "train Loss: 0.1461 Acc: 0.9648\n",
            "val Loss: 0.8490 Acc: 0.7727\n",
            "\n",
            "Epoch 23/24\n",
            "----------\n",
            "train Loss: 0.1255 Acc: 0.9716\n",
            "val Loss: 0.8552 Acc: 0.7636\n",
            "\n",
            "Epoch 24/24\n",
            "----------\n",
            "train Loss: 0.1307 Acc: 0.9727\n",
            "val Loss: 0.8108 Acc: 0.7636\n",
            "\n",
            "Training complete in 3m 28s\n",
            "Best val Acc: 0.790909\n"
          ],
          "name": "stdout"
        }
      ]
    },
    {
      "cell_type": "markdown",
      "metadata": {
        "id": "AW-NHLkTRynX",
        "colab_type": "text"
      },
      "source": [
        "# Depois de treinar o modelo, agora, usaremos um conjunto de imagens de teste "
      ]
    },
    {
      "cell_type": "code",
      "metadata": {
        "id": "_Y2YJ0StaB5e",
        "colab_type": "code",
        "colab": {}
      },
      "source": [
        "torch.save(model_ft.state_dict(), \"./drive/My Drive/modelo\")"
      ],
      "execution_count": 0,
      "outputs": []
    },
    {
      "cell_type": "code",
      "metadata": {
        "id": "FGwmNcdVb4gK",
        "colab_type": "code",
        "outputId": "eb91e9f6-c698-400d-d248-e9b51013664a",
        "colab": {
          "base_uri": "https://localhost:8080/",
          "height": 204
        }
      },
      "source": [
        "class_names"
      ],
      "execution_count": 0,
      "outputs": [
        {
          "output_type": "execute_result",
          "data": {
            "text/plain": [
              "['blues',\n",
              " 'classical',\n",
              " 'country',\n",
              " 'disco',\n",
              " 'funk',\n",
              " 'hiphop',\n",
              " 'jazz',\n",
              " 'metal',\n",
              " 'pop',\n",
              " 'reggae',\n",
              " 'rock']"
            ]
          },
          "metadata": {
            "tags": []
          },
          "execution_count": 9
        }
      ]
    },
    {
      "cell_type": "code",
      "metadata": {
        "id": "hXIyZuv-uus-",
        "colab_type": "code",
        "outputId": "811bf82a-6193-4519-957e-071d35739988",
        "colab": {
          "base_uri": "https://localhost:8080/",
          "height": 204
        }
      },
      "source": [
        "nb_classes = 11\n",
        "\n",
        "confusion_matrix = torch.zeros(nb_classes, nb_classes)\n",
        "with torch.no_grad():\n",
        "    for i, (inputs, classes) in enumerate(dataloaders['test']):\n",
        "        inputs = inputs.to(device)\n",
        "        classes = classes.to(device)\n",
        "        outputs = model_ft(inputs)\n",
        "        _, preds = torch.max(outputs, 1)\n",
        "        for t, p in zip(classes.view(-1), preds.view(-1)):\n",
        "                confusion_matrix[t.long(), p.long()] += 1\n",
        "\n",
        "print(confusion_matrix)"
      ],
      "execution_count": 0,
      "outputs": [
        {
          "output_type": "stream",
          "text": [
            "tensor([[ 6.,  1.,  0.,  0.,  0.,  0.,  1.,  0.,  0.,  1.,  1.],\n",
            "        [ 0., 10.,  0.,  0.,  0.,  0.,  0.,  0.,  0.,  0.,  0.],\n",
            "        [ 0.,  0.,  8.,  1.,  0.,  0.,  0.,  0.,  0.,  0.,  1.],\n",
            "        [ 0.,  0.,  1.,  6.,  0.,  1.,  0.,  0.,  0.,  2.,  0.],\n",
            "        [ 0.,  0.,  0.,  0., 10.,  0.,  0.,  0.,  0.,  0.,  0.],\n",
            "        [ 1.,  0.,  0.,  0.,  0.,  8.,  0.,  1.,  0.,  0.,  0.],\n",
            "        [ 0.,  0.,  0.,  0.,  0.,  0., 10.,  0.,  0.,  0.,  0.],\n",
            "        [ 0.,  0.,  0.,  0.,  0.,  0.,  0.,  9.,  0.,  0.,  1.],\n",
            "        [ 0.,  0.,  0.,  1.,  0.,  1.,  0.,  0.,  7.,  1.,  0.],\n",
            "        [ 0.,  0.,  0.,  1.,  1.,  0.,  0.,  0.,  1.,  7.,  0.],\n",
            "        [ 0.,  1.,  0.,  1.,  0.,  2.,  1.,  1.,  0.,  1.,  3.]])\n"
          ],
          "name": "stdout"
        }
      ]
    },
    {
      "cell_type": "code",
      "metadata": {
        "id": "P4JfEVDvdjrI",
        "colab_type": "code",
        "colab": {}
      },
      "source": [
        "import itertools\n",
        "import numpy as np\n",
        "import matplotlib.pyplot as plt\n",
        "\n",
        "def plot_confusion_matrix(cm, classes, normalize=False, title='Confusion matrix', cmap=plt.cm.Blues):\n",
        "    if normalize:\n",
        "        cm = cm.astype('float') / cm.sum(axis=1)[:, np.newaxis]\n",
        "        print(\"Normalized confusion matrix\")\n",
        "    else:\n",
        "        print('Confusion matrix, without normalization')\n",
        "\n",
        "    print(cm)\n",
        "    plt.imshow(cm, interpolation='nearest', cmap=cmap)\n",
        "    plt.title(title)\n",
        "    plt.colorbar()\n",
        "    tick_marks = np.arange(len(classes))\n",
        "    plt.xticks(tick_marks, classes, rotation=45)\n",
        "    plt.yticks(tick_marks, classes)\n",
        "\n",
        "    fmt = '.2f'\n",
        "    thresh = cm.max() / 2.\n",
        "    for i, j in itertools.product(range(cm.shape[0]), range(cm.shape[1])):\n",
        "        plt.text(j, i, format(cm[i, j], fmt), horizontalalignment=\"center\", color=\"white\" if cm[i, j] > thresh else \"black\")\n",
        "\n",
        "    plt.tight_layout()\n",
        "    plt.ylabel('True label')\n",
        "    plt.xlabel('Predicted label')"
      ],
      "execution_count": 0,
      "outputs": []
    },
    {
      "cell_type": "code",
      "metadata": {
        "id": "YHk88uVfTW8G",
        "colab_type": "code",
        "outputId": "cb83cb66-e180-4808-a1cf-faa5d14217ef",
        "colab": {
          "base_uri": "https://localhost:8080/",
          "height": 1000
        }
      },
      "source": [
        "plt.figure(figsize=(11,11))\n",
        "plot_confusion_matrix(confusion_matrix, class_names)"
      ],
      "execution_count": 0,
      "outputs": [
        {
          "output_type": "stream",
          "text": [
            "Confusion matrix, without normalization\n",
            "tensor([[ 6.,  1.,  0.,  0.,  0.,  0.,  1.,  0.,  0.,  1.,  1.],\n",
            "        [ 0., 10.,  0.,  0.,  0.,  0.,  0.,  0.,  0.,  0.,  0.],\n",
            "        [ 0.,  0.,  8.,  1.,  0.,  0.,  0.,  0.,  0.,  0.,  1.],\n",
            "        [ 0.,  0.,  1.,  6.,  0.,  1.,  0.,  0.,  0.,  2.,  0.],\n",
            "        [ 0.,  0.,  0.,  0., 10.,  0.,  0.,  0.,  0.,  0.,  0.],\n",
            "        [ 1.,  0.,  0.,  0.,  0.,  8.,  0.,  1.,  0.,  0.,  0.],\n",
            "        [ 0.,  0.,  0.,  0.,  0.,  0., 10.,  0.,  0.,  0.,  0.],\n",
            "        [ 0.,  0.,  0.,  0.,  0.,  0.,  0.,  9.,  0.,  0.,  1.],\n",
            "        [ 0.,  0.,  0.,  1.,  0.,  1.,  0.,  0.,  7.,  1.,  0.],\n",
            "        [ 0.,  0.,  0.,  1.,  1.,  0.,  0.,  0.,  1.,  7.,  0.],\n",
            "        [ 0.,  1.,  0.,  1.,  0.,  2.,  1.,  1.,  0.,  1.,  3.]])\n"
          ],
          "name": "stdout"
        },
        {
          "output_type": "display_data",
          "data": {
            "image/png": "[encoded data removed]",
            "text/plain": [
              "<Figure size 792x792 with 2 Axes>"
            ]
          },
          "metadata": {
            "tags": []
          }
        }
      ]
    },
    {
      "cell_type": "code",
      "metadata": {
        "id": "Uvn2lzOcwdAr",
        "colab_type": "code",
        "outputId": "c0058ecb-3c7e-4ea4-94b3-a7b7d974f487",
        "colab": {
          "base_uri": "https://localhost:8080/",
          "height": 51
        }
      },
      "source": [
        "print(confusion_matrix.diag()/confusion_matrix.sum(1))"
      ],
      "execution_count": 0,
      "outputs": [
        {
          "output_type": "stream",
          "text": [
            "tensor([0.6000, 1.0000, 0.8000, 0.6000, 1.0000, 0.8000, 1.0000, 0.9000, 0.7000,\n",
            "        0.7000, 0.3000])\n"
          ],
          "name": "stdout"
        }
      ]
    },
    {
      "cell_type": "code",
      "metadata": {
        "id": "SVekayA2N2tn",
        "colab_type": "code",
        "colab": {}
      },
      "source": [
        ""
      ],
      "execution_count": 0,
      "outputs": []
    }
  ]
}